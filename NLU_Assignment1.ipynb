{
  "nbformat": 4,
  "nbformat_minor": 0,
  "metadata": {
    "colab": {
      "name": "NLU-Assignment1.ipynb",
      "provenance": [],
      "collapsed_sections": []
    },
    "kernelspec": {
      "name": "python3",
      "display_name": "Python 3"
    },
    "language_info": {
      "name": "python"
    }
  },
  "cells": [
    {
      "cell_type": "code",
      "metadata": {
        "id": "goK083CV_YeA"
      },
      "source": [
        "  import spacy\n",
        "  from spacy import displacy\n",
        "  nlp = spacy.load('en_core_web_sm')"
      ],
      "execution_count": 3,
      "outputs": []
    },
    {
      "cell_type": "markdown",
      "metadata": {
        "id": "YTbn-jDnTwkM"
      },
      "source": [
        "### **Q1: expract a path of dependency relations from the ROOT to a token**"
      ]
    },
    {
      "cell_type": "code",
      "metadata": {
        "id": "9u_kHeqQQzOd"
      },
      "source": [
        " def getDeps(sentence):\n",
        "\n",
        "  doc = nlp(sent)\n",
        "\n",
        "  tokenList = []\n",
        "  depList = []\n",
        "  for token in doc:\n",
        "    tokenList.append(token.text) \n",
        "    currList = []\n",
        "    currList.append(token.dep_)\n",
        "    for token in token.ancestors:\n",
        "      currList.append(token.dep_)\n",
        "    currList.reverse()\n",
        "    depList.append(currList)\n",
        "\n",
        "  for i in range(len(tokenList)):\n",
        "    print(tokenList[i], depList[i])\n",
        "    "
      ],
      "execution_count": 4,
      "outputs": []
    },
    {
      "cell_type": "markdown",
      "metadata": {
        "id": "gxO0Ry9TUI-o"
      },
      "source": [
        "###**Q2: extract subtree of a dependents given a token**"
      ]
    },
    {
      "cell_type": "code",
      "metadata": {
        "id": "a_q11PqR0qMn"
      },
      "source": [
        "def extractSubtree(sentence):\n",
        "  doc = nlp(sentence)\n",
        "  tokenList = []\n",
        "  descList = []\n",
        "\n",
        "  for token in doc:\n",
        "    tokenList.append(token)\n",
        "    currList = []\n",
        "    for desc in token.subtree:\n",
        "      if desc != token:\n",
        "        currList.append(desc)\n",
        "    descList.append(currList)\n",
        "\n",
        "  for i in range(len(tokenList)):\n",
        "    print(tokenList[i], descList[i])"
      ],
      "execution_count": 5,
      "outputs": []
    },
    {
      "cell_type": "markdown",
      "metadata": {
        "id": "781RNMVKUWnN"
      },
      "source": [
        "###**Q3: check if a given list of tokens (segment of a sentence) forms a subtree**"
      ]
    },
    {
      "cell_type": "code",
      "metadata": {
        "id": "-rmq3t-Z16dn"
      },
      "source": [
        "def subTreeCheck(sentence, tokenList):\n",
        "  doc = nlp(sentence)\n",
        "  inputTokenSet = set(tokenList)\n",
        "  subtreeList = []\n",
        "\n",
        "  for token in doc:\n",
        "    currTree = []\n",
        "    for desc in token.subtree:\n",
        "      currTree.append(desc.text)\n",
        "    subtreeList.append(currTree)\n",
        "\n",
        "  for tree in subtreeList:\n",
        "    if inputTokenSet == set(tree):\n",
        "      return True\n",
        "  return False"
      ],
      "execution_count": 6,
      "outputs": []
    },
    {
      "cell_type": "markdown",
      "metadata": {
        "id": "b_cprAw0Ubyf"
      },
      "source": [
        "###**Q4: identify head of a span, given its tokens**"
      ]
    },
    {
      "cell_type": "code",
      "metadata": {
        "id": "1mlMVnXSPFEo"
      },
      "source": [
        "def findHead(sentence):\n",
        "    doc = nlp(sentence)\n",
        "    for i in range(len(doc)):\n",
        "        if doc[i].head == doc[i]:\n",
        "            head = doc[i]\n",
        "    return head.text"
      ],
      "execution_count": 11,
      "outputs": []
    },
    {
      "cell_type": "markdown",
      "metadata": {
        "id": "TPLEMTtFUkIf"
      },
      "source": [
        "### **Q5: extract sentence subject, direct object and indirect object spans**"
      ]
    },
    {
      "cell_type": "code",
      "metadata": {
        "id": "e4K5cHpX7K9c"
      },
      "source": [
        "def extractSpans(sentence):\n",
        "  doc = nlp(sentence)\n",
        "  nsubj = []\n",
        "  iobj = []\n",
        "  dobj = []\n",
        "\n",
        "  for token in doc:\n",
        "    currList = []\n",
        "    if token.dep_ == 'nsubj':\n",
        "      for desc in token.subtree:\n",
        "        currList.append(desc.text)\n",
        "      nsubj.append(currList)\n",
        "\n",
        "    currList = []\n",
        "    if token.dep_ == 'iobj':\n",
        "      for desc in token.subtree:\n",
        "        currList.append(desc.text)\n",
        "      iobj.append(currList)\n",
        "\n",
        "    currList = []\n",
        "    if token.dep_ == 'dobj':\n",
        "      for desc in token.subtree:\n",
        "        currList.append(desc.text)\n",
        "      dobj.append(currList)\n",
        "    \n",
        "  return {'nsubj':nsubj, 'iobj':iobj, 'dobj':dobj}"
      ],
      "execution_count": 19,
      "outputs": []
    },
    {
      "cell_type": "markdown",
      "metadata": {
        "id": "9oLG598bhKaG"
      },
      "source": [
        "###**Main**"
      ]
    },
    {
      "cell_type": "code",
      "metadata": {
        "colab": {
          "base_uri": "https://localhost:8080/"
        },
        "id": "LKsf4bmePer3",
        "outputId": "c0d866be-0f4c-4b76-ede1-273b59eb9bd8"
      },
      "source": [
        "sent = 'I saw a man with a telescope.'\n",
        "span = 'show me italian movies'\n",
        "\n",
        "print('-------------Question 1--------------')\n",
        "getDeps(sent)\n",
        "\n",
        "print('----------------Question 2----------------')\n",
        "extractSubtree(sent)\n",
        "\n",
        "print('----------------Question 3----------------')\n",
        "print(subTreeCheck(sent, ['a', 'telescope']))\n",
        "print(subTreeCheck(sent, ['I', 'a']))\n",
        "\n",
        "print('----------------Question 4----------------')\n",
        "print(findHead(span))\n",
        "\n",
        "print('----------------Question 5----------------')\n",
        "extractSpans(sent)"
      ],
      "execution_count": 22,
      "outputs": [
        {
          "output_type": "stream",
          "text": [
            "-------------Question 1--------------\n",
            "I ['ROOT', 'nsubj']\n",
            "saw ['ROOT']\n",
            "a ['ROOT', 'dobj', 'det']\n",
            "man ['ROOT', 'dobj']\n",
            "with ['ROOT', 'dobj', 'prep']\n",
            "a ['ROOT', 'dobj', 'prep', 'pobj', 'det']\n",
            "telescope ['ROOT', 'dobj', 'prep', 'pobj']\n",
            ". ['ROOT', 'punct']\n",
            "----------------Question 2----------------\n",
            "I []\n",
            "saw [I, a, man, with, a, telescope, .]\n",
            "a []\n",
            "man [a, with, a, telescope]\n",
            "with [a, telescope]\n",
            "a []\n",
            "telescope [a]\n",
            ". []\n",
            "----------------Question 3----------------\n",
            "True\n",
            "False\n",
            "----------------Question 4----------------\n",
            "show\n",
            "----------------Question 5----------------\n"
          ],
          "name": "stdout"
        },
        {
          "output_type": "execute_result",
          "data": {
            "text/plain": [
              "{'dobj': [['a', 'man', 'with', 'a', 'telescope']],\n",
              " 'iobj': [],\n",
              " 'nsubj': [['I']]}"
            ]
          },
          "metadata": {
            "tags": []
          },
          "execution_count": 22
        }
      ]
    },
    {
      "cell_type": "code",
      "metadata": {
        "id": "QphczrgPJYzU"
      },
      "source": [
        ""
      ],
      "execution_count": null,
      "outputs": []
    }
  ]
}